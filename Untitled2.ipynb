{
 "cells": [
  {
   "cell_type": "code",
   "execution_count": 5,
   "id": "63c1f530",
   "metadata": {},
   "outputs": [
    {
     "name": "stdout",
     "output_type": "stream",
     "text": [
      "   PassengerId  Survived  Pclass  \\\n",
      "0            1         0       3   \n",
      "1            2         1       1   \n",
      "2            3         1       3   \n",
      "3            4         1       1   \n",
      "4            5         0       3   \n",
      "\n",
      "                                                Name     Sex   Age  SibSp  \\\n",
      "0                            Braund, Mr. Owen Harris    male  22.0      1   \n",
      "1  Cumings, Mrs. John Bradley (Florence Briggs Th...  female  38.0      1   \n",
      "2                             Heikkinen, Miss. Laina  female  26.0      0   \n",
      "3       Futrelle, Mrs. Jacques Heath (Lily May Peel)  female  35.0      1   \n",
      "4                           Allen, Mr. William Henry    male  35.0      0   \n",
      "\n",
      "   Parch            Ticket     Fare Cabin Embarked  \n",
      "0      0         A/5 21171   7.2500   NaN        S  \n",
      "1      0          PC 17599  71.2833   C85        C  \n",
      "2      0  STON/O2. 3101282   7.9250   NaN        S  \n",
      "3      0            113803  53.1000  C123        S  \n",
      "4      0            373450   8.0500   NaN        S  \n"
     ]
    }
   ],
   "source": [
    "import pandas as pd\n",
    "\n",
    "import numpy as np\n",
    "\n",
    "import seaborn as sns\n",
    "\n",
    "import matplotlib.pyplot as plt\n",
    "\n",
    "from sklearn.preprocessing import StandardScaler\n",
    "\n",
    "# Load dataset\n",
    "\n",
    "df = pd.read_csv(\"Titanic-Dataset.csv\")\n",
    "\n",
    "# Firrst 5 rows\n",
    "\n",
    "print(df.head())"
   ]
  },
  {
   "cell_type": "code",
   "execution_count": 3,
   "id": "7c7aee45",
   "metadata": {},
   "outputs": [
    {
     "name": "stdout",
     "output_type": "stream",
     "text": [
      "<class 'pandas.core.frame.DataFrame'>\n",
      "RangeIndex: 891 entries, 0 to 890\n",
      "Data columns (total 12 columns):\n",
      " #   Column       Non-Null Count  Dtype  \n",
      "---  ------       --------------  -----  \n",
      " 0   PassengerId  891 non-null    int64  \n",
      " 1   Survived     891 non-null    int64  \n",
      " 2   Pclass       891 non-null    int64  \n",
      " 3   Name         891 non-null    object \n",
      " 4   Sex          891 non-null    object \n",
      " 5   Age          714 non-null    float64\n",
      " 6   SibSp        891 non-null    int64  \n",
      " 7   Parch        891 non-null    int64  \n",
      " 8   Ticket       891 non-null    object \n",
      " 9   Fare         891 non-null    float64\n",
      " 10  Cabin        204 non-null    object \n",
      " 11  Embarked     889 non-null    object \n",
      "dtypes: float64(2), int64(5), object(5)\n",
      "memory usage: 83.7+ KB\n",
      "None\n",
      "PassengerId      0\n",
      "Survived         0\n",
      "Pclass           0\n",
      "Name             0\n",
      "Sex              0\n",
      "Age            177\n",
      "SibSp            0\n",
      "Parch            0\n",
      "Ticket           0\n",
      "Fare             0\n",
      "Cabin          687\n",
      "Embarked         2\n",
      "dtype: int64\n"
     ]
    }
   ],
   "source": [
    "# Checking data types and missing values\n",
    "\n",
    "print(df.info())\n",
    "\n",
    "# Counting missing values in each column\n",
    "\n",
    "print(df.isnull().sum())"
   ]
  },
  {
   "cell_type": "code",
   "execution_count": 4,
   "id": "d3d006b7",
   "metadata": {},
   "outputs": [],
   "source": [
    "# Drop Cabin\n",
    "\n",
    "df.drop(columns='Cabin', inplace=True)\n",
    "df['Age'].fillna(df['Age'].median(), inplace=True)\n",
    "df['Embarked'].fillna(df['Embarked'].mode()[0], inplace=True)"
   ]
  },
  {
   "cell_type": "code",
   "execution_count": 6,
   "id": "868a1e2f",
   "metadata": {},
   "outputs": [],
   "source": [
    "df = pd.get_dummies(df, columns=['Sex', 'Embarked'], drop_first=True)"
   ]
  },
  {
   "cell_type": "code",
   "execution_count": 7,
   "id": "d28e1537",
   "metadata": {},
   "outputs": [],
   "source": [
    "scaler = StandardScaler()\n",
    "\n",
    "df[['Age', 'Fare']] = scaler.fit_transform(df[['Age', 'Fare']])"
   ]
  },
  {
   "cell_type": "code",
   "execution_count": 8,
   "id": "f441fa20",
   "metadata": {},
   "outputs": [
    {
     "data": {
      "image/png": "[encoded data removed]",
      "text/plain": [
       "<Figure size 1000x400 with 2 Axes>"
      ]
     },
     "metadata": {},
     "output_type": "display_data"
    }
   ],
   "source": [
    "plt.figure(figsize=(10, 4))\n",
    "\n",
    "plt.subplot(1, 2, 1)\n",
    "\n",
    "sns.boxplot(data=df['Fare'])\n",
    "\n",
    "plt.title(\"Fare - Before Outlier Removal\")\n",
    "\n",
    "plt.subplot(1, 2, 2)\n",
    "\n",
    "sns.boxplot(data=df['Age'])\n",
    "\n",
    "plt.title(\"Age - Before Outlier Removal\")\n",
    "\n",
    "plt.tight_layout()\n",
    "\n",
    "plt.show()\n",
    "\n",
    "#IQR\n",
    "\n",
    "def remove_outliers_iqr(data, column):\n",
    "\n",
    "    Q1 = data[column].quantile(0.25)\n",
    "\n",
    "    Q3 = data[column].quantile(0.75)\n",
    "\n",
    "    IQR = Q3 - Q1\n",
    "\n",
    "    lower = Q1 - 1.5 * IQR\n",
    "\n",
    "    upper = Q3 + 1.5 * IQR\n",
    "\n",
    "    return data[(data[column] >= lower) & (data[column] <= upper)]\n",
    "\n",
    "# Removing outliers in 'Fare' and 'Age'\n",
    "\n",
    "df = remove_outliers_iqr(df, 'Fare')\n",
    "\n",
    "df = remove_outliers_iqr(df, 'Age')"
   ]
  },
  {
   "cell_type": "code",
   "execution_count": 9,
   "id": "911349fe",
   "metadata": {},
   "outputs": [
    {
     "name": "stdout",
     "output_type": "stream",
     "text": [
      "Final dataset shape: (601, 13)\n",
      "   PassengerId  Survived  Pclass  \\\n",
      "0            1         0       3   \n",
      "2            3         1       3   \n",
      "3            4         1       1   \n",
      "4            5         0       3   \n",
      "6            7         0       1   \n",
      "\n",
      "                                           Name       Age  SibSp  Parch  \\\n",
      "0                       Braund, Mr. Owen Harris -0.530377      1      0   \n",
      "2                        Heikkinen, Miss. Laina -0.254825      0      0   \n",
      "3  Futrelle, Mrs. Jacques Heath (Lily May Peel)  0.365167      1      0   \n",
      "4                      Allen, Mr. William Henry  0.365167      0      0   \n",
      "6                       McCarthy, Mr. Timothy J  1.674039      0      0   \n",
      "\n",
      "             Ticket      Fare Cabin  Sex_male  Embarked_Q  Embarked_S  \n",
      "0         A/5 21171 -0.502445   NaN         1           0           1  \n",
      "2  STON/O2. 3101282 -0.488854   NaN         0           0           1  \n",
      "3            113803  0.420730  C123         0           0           1  \n",
      "4            373450 -0.486337   NaN         1           0           1  \n",
      "6             17463  0.395814   E46         1           0           1  \n"
     ]
    }
   ],
   "source": [
    "print(\"Final dataset shape:\", df.shape)\n",
    "\n",
    "print(df.head())"
   ]
  },
  {
   "cell_type": "code",
   "execution_count": null,
   "id": "85ccc568",
   "metadata": {},
   "outputs": [],
   "source": []
  }
 ],
 "metadata": {
  "kernelspec": {
   "display_name": "Python3",
   "language": "python",
   "name": "python3"
  },
  "language_info": {
   "codemirror_mode": {
    "name": "ipython",
    "version": 3
   },
   "file_extension": ".py",
   "mimetype": "text/x-python",
   "name": "python",
   "nbconvert_exporter": "python",
   "pygments_lexer": "ipython3",
   "version": "3.9.7"
  }
 },
 "nbformat": 4,
 "nbformat_minor": 5
}
